{
 "cells": [
  {
   "cell_type": "code",
   "execution_count": null,
   "metadata": {},
   "outputs": [],
   "source": [
    "import matplotlib.pyplot as plt\n",
    "import pandas as pd\n",
    "import numpy as np\n",
    "import requests\n",
    "import time\n",
    "from scipy.stats import linregress\n",
    "from sqlalchemy import create_engine\n",
    "import gmaps\n",
    "\n",
    "# Import API key\n",
    "from api_keys import weather_api_key\n",
    "from api_keys import google_key\n",
    "from config import username\n",
    "from config import password\n",
    "\n",
    "\n",
    "gmaps.configure(api_key = google_key)"
   ]
  },
  {
   "cell_type": "code",
   "execution_count": null,
   "metadata": {},
   "outputs": [],
   "source": [
    "# LOAD - Perform the loading of the data into the sql server here:\n",
    "rds_connection_string = f'{username}:{password}@localhost:5432/hurricanes'\n",
    "engine = create_engine(f'postgresql://{rds_connection_string}')\n",
    "\n",
    "# Confirm the table name in the database:\n",
    "engine.table_names()\n"
   ]
  },
  {
   "cell_type": "code",
   "execution_count": null,
   "metadata": {},
   "outputs": [],
   "source": [
    "# LOAD the data INTO the SQL server database\n",
    "#to_sql_df.to_sql(name='hurricanes', con=engine, if_exists='replace', index=True)"
   ]
  },
  {
   "cell_type": "code",
   "execution_count": null,
   "metadata": {},
   "outputs": [],
   "source": [
    "csv_file = \"Resources/final_database.csv\"\n",
    "recovered_df = pd.read_csv(csv_file)\n",
    "to_sql_df = recovered_df\n",
    "recovered_df.head(50)"
   ]
  },
  {
   "cell_type": "code",
   "execution_count": null,
   "metadata": {},
   "outputs": [],
   "source": [
    "#############################################"
   ]
  },
  {
   "cell_type": "code",
   "execution_count": null,
   "metadata": {},
   "outputs": [],
   "source": [
    "# Store a backup copy of the dataframe so that we don't have to rerun the above.\n",
    "# This will allow others to quickly spin up the full-size database\n",
    "#to_sql_df.to_csv(\"Resources/final_database.csv\", index=True, header=True)"
   ]
  },
  {
   "cell_type": "code",
   "execution_count": null,
   "metadata": {},
   "outputs": [],
   "source": [
    "# LOAD/EXTRACT the data FROM the SQL database\n",
    "katrina_from_sql_df = pd.read_sql_query(\"select * from hurricanes where name = 'KATRINA'\", con=engine)\n",
    "coords = katrina_from_sql_df[[\"new_latitude\", \"new_longitude\"]]\n",
    "\n",
    "# EXTRACT Google Maps data\n",
    "fig = gmaps.figure(zoom_level=5, center=(27.5,-85))\n",
    "\n",
    "#heat_layer = gmaps.heatmap_layer(coords, dissipating=False, max_intensity=100, point_radius=3)\n",
    "#fig.add_layer(heat_layer)\n",
    "\n",
    "# TRANSFORM the EXTRACTED data into a Google Maps symbol layer\n",
    "hurricane_katrina_layer = gmaps.symbol_layer(\n",
    "    coords, fill_color='red', stroke_color='red', scale=2\n",
    ")\n",
    "fig.add_layer(hurricane_katrina_layer)\n",
    "fig\n"
   ]
  }
 ],
 "metadata": {
  "kernelspec": {
   "display_name": "Python 3",
   "language": "python",
   "name": "python3"
  },
  "language_info": {
   "codemirror_mode": {
    "name": "ipython",
    "version": 3
   },
   "file_extension": ".py",
   "mimetype": "text/x-python",
   "name": "python",
   "nbconvert_exporter": "python",
   "pygments_lexer": "ipython3",
   "version": "3.6.10"
  }
 },
 "nbformat": 4,
 "nbformat_minor": 4
}
